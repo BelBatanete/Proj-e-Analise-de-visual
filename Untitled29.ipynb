{
  "nbformat": 4,
  "nbformat_minor": 0,
  "metadata": {
    "colab": {
      "provenance": [],
      "authorship_tag": "ABX9TyOuDALPC1xWXIHoMBJ5buC9",
      "include_colab_link": true
    },
    "kernelspec": {
      "name": "python3",
      "display_name": "Python 3"
    },
    "language_info": {
      "name": "python"
    }
  },
  "cells": [
    {
      "cell_type": "markdown",
      "metadata": {
        "id": "view-in-github",
        "colab_type": "text"
      },
      "source": [
        "<a href=\"https://colab.research.google.com/github/BelBatanete/Proj-e-Analise-de-visual/blob/main/Untitled29.ipynb\" target=\"_parent\"><img src=\"https://colab.research.google.com/assets/colab-badge.svg\" alt=\"Open In Colab\"/></a>"
      ]
    },
    {
      "cell_type": "code",
      "execution_count": null,
      "metadata": {
        "colab": {
          "base_uri": "https://localhost:8080/"
        },
        "id": "NJjm7JyMNOi0",
        "outputId": "0b146243-91aa-4f58-df3e-a16326991ef2"
      },
      "outputs": [
        {
          "output_type": "stream",
          "name": "stdout",
          "text": [
            "Requirement already satisfied: geopandas in /usr/local/lib/python3.10/dist-packages (1.0.1)\n",
            "Requirement already satisfied: folium in /usr/local/lib/python3.10/dist-packages (0.18.0)\n",
            "Requirement already satisfied: geopy in /usr/local/lib/python3.10/dist-packages (2.4.1)\n",
            "Requirement already satisfied: pandas in /usr/local/lib/python3.10/dist-packages (2.2.2)\n",
            "Requirement already satisfied: numpy>=1.22 in /usr/local/lib/python3.10/dist-packages (from geopandas) (1.26.4)\n",
            "Requirement already satisfied: pyogrio>=0.7.2 in /usr/local/lib/python3.10/dist-packages (from geopandas) (0.10.0)\n",
            "Requirement already satisfied: packaging in /usr/local/lib/python3.10/dist-packages (from geopandas) (24.1)\n",
            "Requirement already satisfied: pyproj>=3.3.0 in /usr/local/lib/python3.10/dist-packages (from geopandas) (3.7.0)\n",
            "Requirement already satisfied: shapely>=2.0.0 in /usr/local/lib/python3.10/dist-packages (from geopandas) (2.0.6)\n",
            "Requirement already satisfied: branca>=0.6.0 in /usr/local/lib/python3.10/dist-packages (from folium) (0.8.0)\n",
            "Requirement already satisfied: jinja2>=2.9 in /usr/local/lib/python3.10/dist-packages (from folium) (3.1.4)\n",
            "Requirement already satisfied: requests in /usr/local/lib/python3.10/dist-packages (from folium) (2.32.3)\n",
            "Requirement already satisfied: xyzservices in /usr/local/lib/python3.10/dist-packages (from folium) (2024.9.0)\n",
            "Requirement already satisfied: geographiclib<3,>=1.52 in /usr/local/lib/python3.10/dist-packages (from geopy) (2.0)\n",
            "Requirement already satisfied: python-dateutil>=2.8.2 in /usr/local/lib/python3.10/dist-packages (from pandas) (2.8.2)\n",
            "Requirement already satisfied: pytz>=2020.1 in /usr/local/lib/python3.10/dist-packages (from pandas) (2024.2)\n",
            "Requirement already satisfied: tzdata>=2022.7 in /usr/local/lib/python3.10/dist-packages (from pandas) (2024.2)\n",
            "Requirement already satisfied: MarkupSafe>=2.0 in /usr/local/lib/python3.10/dist-packages (from jinja2>=2.9->folium) (3.0.2)\n",
            "Requirement already satisfied: certifi in /usr/local/lib/python3.10/dist-packages (from pyogrio>=0.7.2->geopandas) (2024.8.30)\n",
            "Requirement already satisfied: six>=1.5 in /usr/local/lib/python3.10/dist-packages (from python-dateutil>=2.8.2->pandas) (1.16.0)\n",
            "Requirement already satisfied: charset-normalizer<4,>=2 in /usr/local/lib/python3.10/dist-packages (from requests->folium) (3.4.0)\n",
            "Requirement already satisfied: idna<4,>=2.5 in /usr/local/lib/python3.10/dist-packages (from requests->folium) (3.10)\n",
            "Requirement already satisfied: urllib3<3,>=1.21.1 in /usr/local/lib/python3.10/dist-packages (from requests->folium) (2.2.3)\n"
          ]
        }
      ],
      "source": [
        "!pip install geopandas folium geopy pandas\n"
      ]
    },
    {
      "cell_type": "code",
      "source": [
        "!pip install geopandas matplotlib contextily\n"
      ],
      "metadata": {
        "colab": {
          "base_uri": "https://localhost:8080/"
        },
        "id": "Cj3DrFsoPy3r",
        "outputId": "72bb5944-d597-4157-ab66-e43a6bd6f717"
      },
      "execution_count": null,
      "outputs": [
        {
          "output_type": "stream",
          "name": "stdout",
          "text": [
            "Requirement already satisfied: geopandas in /usr/local/lib/python3.10/dist-packages (1.0.1)\n",
            "Requirement already satisfied: matplotlib in /usr/local/lib/python3.10/dist-packages (3.8.0)\n",
            "Collecting contextily\n",
            "  Downloading contextily-1.6.2-py3-none-any.whl.metadata (2.9 kB)\n",
            "Requirement already satisfied: numpy>=1.22 in /usr/local/lib/python3.10/dist-packages (from geopandas) (1.26.4)\n",
            "Requirement already satisfied: pyogrio>=0.7.2 in /usr/local/lib/python3.10/dist-packages (from geopandas) (0.10.0)\n",
            "Requirement already satisfied: packaging in /usr/local/lib/python3.10/dist-packages (from geopandas) (24.1)\n",
            "Requirement already satisfied: pandas>=1.4.0 in /usr/local/lib/python3.10/dist-packages (from geopandas) (2.2.2)\n",
            "Requirement already satisfied: pyproj>=3.3.0 in /usr/local/lib/python3.10/dist-packages (from geopandas) (3.7.0)\n",
            "Requirement already satisfied: shapely>=2.0.0 in /usr/local/lib/python3.10/dist-packages (from geopandas) (2.0.6)\n",
            "Requirement already satisfied: contourpy>=1.0.1 in /usr/local/lib/python3.10/dist-packages (from matplotlib) (1.3.0)\n",
            "Requirement already satisfied: cycler>=0.10 in /usr/local/lib/python3.10/dist-packages (from matplotlib) (0.12.1)\n",
            "Requirement already satisfied: fonttools>=4.22.0 in /usr/local/lib/python3.10/dist-packages (from matplotlib) (4.54.1)\n",
            "Requirement already satisfied: kiwisolver>=1.0.1 in /usr/local/lib/python3.10/dist-packages (from matplotlib) (1.4.7)\n",
            "Requirement already satisfied: pillow>=6.2.0 in /usr/local/lib/python3.10/dist-packages (from matplotlib) (10.4.0)\n",
            "Requirement already satisfied: pyparsing>=2.3.1 in /usr/local/lib/python3.10/dist-packages (from matplotlib) (3.2.0)\n",
            "Requirement already satisfied: python-dateutil>=2.7 in /usr/local/lib/python3.10/dist-packages (from matplotlib) (2.8.2)\n",
            "Requirement already satisfied: geopy in /usr/local/lib/python3.10/dist-packages (from contextily) (2.4.1)\n",
            "Collecting mercantile (from contextily)\n",
            "  Downloading mercantile-1.2.1-py3-none-any.whl.metadata (4.8 kB)\n",
            "Collecting rasterio (from contextily)\n",
            "  Downloading rasterio-1.4.2-cp310-cp310-manylinux_2_17_x86_64.manylinux2014_x86_64.whl.metadata (9.1 kB)\n",
            "Requirement already satisfied: requests in /usr/local/lib/python3.10/dist-packages (from contextily) (2.32.3)\n",
            "Requirement already satisfied: joblib in /usr/local/lib/python3.10/dist-packages (from contextily) (1.4.2)\n",
            "Requirement already satisfied: xyzservices in /usr/local/lib/python3.10/dist-packages (from contextily) (2024.9.0)\n",
            "Requirement already satisfied: pytz>=2020.1 in /usr/local/lib/python3.10/dist-packages (from pandas>=1.4.0->geopandas) (2024.2)\n",
            "Requirement already satisfied: tzdata>=2022.7 in /usr/local/lib/python3.10/dist-packages (from pandas>=1.4.0->geopandas) (2024.2)\n",
            "Requirement already satisfied: certifi in /usr/local/lib/python3.10/dist-packages (from pyogrio>=0.7.2->geopandas) (2024.8.30)\n",
            "Requirement already satisfied: six>=1.5 in /usr/local/lib/python3.10/dist-packages (from python-dateutil>=2.7->matplotlib) (1.16.0)\n",
            "Requirement already satisfied: geographiclib<3,>=1.52 in /usr/local/lib/python3.10/dist-packages (from geopy->contextily) (2.0)\n",
            "Requirement already satisfied: click>=3.0 in /usr/local/lib/python3.10/dist-packages (from mercantile->contextily) (8.1.7)\n",
            "Collecting affine (from rasterio->contextily)\n",
            "  Downloading affine-2.4.0-py3-none-any.whl.metadata (4.0 kB)\n",
            "Requirement already satisfied: attrs in /usr/local/lib/python3.10/dist-packages (from rasterio->contextily) (24.2.0)\n",
            "Collecting cligj>=0.5 (from rasterio->contextily)\n",
            "  Downloading cligj-0.7.2-py3-none-any.whl.metadata (5.0 kB)\n",
            "Collecting click-plugins (from rasterio->contextily)\n",
            "  Downloading click_plugins-1.1.1-py2.py3-none-any.whl.metadata (6.4 kB)\n",
            "Requirement already satisfied: charset-normalizer<4,>=2 in /usr/local/lib/python3.10/dist-packages (from requests->contextily) (3.4.0)\n",
            "Requirement already satisfied: idna<4,>=2.5 in /usr/local/lib/python3.10/dist-packages (from requests->contextily) (3.10)\n",
            "Requirement already satisfied: urllib3<3,>=1.21.1 in /usr/local/lib/python3.10/dist-packages (from requests->contextily) (2.2.3)\n",
            "Downloading contextily-1.6.2-py3-none-any.whl (17 kB)\n",
            "Downloading mercantile-1.2.1-py3-none-any.whl (14 kB)\n",
            "Downloading rasterio-1.4.2-cp310-cp310-manylinux_2_17_x86_64.manylinux2014_x86_64.whl (22.2 MB)\n",
            "\u001b[2K   \u001b[90m━━━━━━━━━━━━━━━━━━━━━━━━━━━━━━━━━━━━━━━━\u001b[0m \u001b[32m22.2/22.2 MB\u001b[0m \u001b[31m35.2 MB/s\u001b[0m eta \u001b[36m0:00:00\u001b[0m\n",
            "\u001b[?25hDownloading cligj-0.7.2-py3-none-any.whl (7.1 kB)\n",
            "Downloading affine-2.4.0-py3-none-any.whl (15 kB)\n",
            "Downloading click_plugins-1.1.1-py2.py3-none-any.whl (7.5 kB)\n",
            "Installing collected packages: mercantile, cligj, click-plugins, affine, rasterio, contextily\n",
            "Successfully installed affine-2.4.0 click-plugins-1.1.1 cligj-0.7.2 contextily-1.6.2 mercantile-1.2.1 rasterio-1.4.2\n"
          ]
        }
      ]
    },
    {
      "cell_type": "code",
      "source": [
        "import geopandas as gpd\n",
        "import matplotlib.pyplot as plt\n",
        "import contextily as ctx\n"
      ],
      "metadata": {
        "id": "4kAt-813P5oy"
      },
      "execution_count": null,
      "outputs": []
    },
    {
      "cell_type": "code",
      "source": [
        "import geopandas as gpd\n",
        "import matplotlib.pyplot as plt\n",
        "from shapely.geometry import Polygon\n",
        "import os\n",
        "\n",
        "# Função para criar polígonos com contornos semelhantes a países europeus\n",
        "def create_european_shape(x_offset, y_offset):\n",
        "    if (x_offset, y_offset) == (0, 0):  # País como a França\n",
        "        return Polygon([(0, 0), (2, 0), (2, 1), (1.5, 2), (0.5, 2)])\n",
        "    elif (x_offset, y_offset) == (2, 0):  # País como a Alemanha\n",
        "        return Polygon([(2, 0), (4, 0), (4, 1.5), (3, 1.5), (2, 1)])\n",
        "    elif (x_offset, y_offset) == (0, 2):  # País como a Itália\n",
        "        return Polygon([(0.5, 2), (1.5, 3), (0.5, 3), (0, 2.5)])\n",
        "    elif (x_offset, y_offset) == (1, 2):  # País como a Espanha\n",
        "        return Polygon([(1.5, 2), (2.5, 2.5), (1.5, 3.5), (1, 3)])\n",
        "    elif (x_offset, y_offset) == (3, 0):  # País como a Polônia\n",
        "        return Polygon([(4, 1), (5, 1), (5, 3), (4, 3)])\n",
        "    elif (x_offset, y_offset) == (2, 2):  # País como a República Checa\n",
        "        return Polygon([(2.5, 2), (3.5, 2), (3.5, 3), (2.5, 3)])\n",
        "    elif (x_offset, y_offset) == (4, 1):  # País como a Hungria\n",
        "        return Polygon([(4, 1), (5, 1), (5, 2), (4.5, 2)])\n",
        "    elif (x_offset, y_offset) == (1, 0):  # País como a Suíça\n",
        "        return Polygon([(1.5, 0.5), (2.5, 0.5), (2.5, 1.5), (1.5, 1.5)])\n",
        "    elif (x_offset, y_offset) == (3, 2):  # País como a Áustria\n",
        "        return Polygon([(4.5, 2), (5, 2), (5, 3), (4.5, 3)])\n",
        "\n",
        "    return None\n",
        "\n",
        "# Criando uma lista de polígonos representando países fictícios com formas europeias\n",
        "polygons = [\n",
        "    create_european_shape(0, 0),   # País 1\n",
        "    create_european_shape(1, 0),   # País 2\n",
        "    create_european_shape(2, 0),   # País 3\n",
        "    create_european_shape(3, 0),   # País 4\n",
        "    create_european_shape(0, 2),   # País 5\n",
        "    create_european_shape(1, 2),   # País 6\n",
        "    create_european_shape(2, 2),   # País 7\n",
        "    create_european_shape(3, 2),   # País 8\n",
        "    create_european_shape(4, 1),   # País 9\n",
        "]\n",
        "\n",
        "# Criando um DataFrame com os dados\n",
        "data = {\n",
        "    'Country': [f'Country {chr(65 + i)}' for i in range(len(polygons))],  # Gera nomes Country A, B, C...\n",
        "    'Continent': ['Europe'] * len(polygons),  # Atribui todos ao mesmo continente\n",
        "    'Value': [10, 20, 30, 40, 50, 60, 70, 80, 90]  # Valores fictícios para coroplético\n",
        "}\n",
        "\n",
        "# Criando o GeoDataFrame\n",
        "gdf = gpd.GeoDataFrame(data, geometry=polygons)\n",
        "\n",
        "# Exibindo o GeoDataFrame\n",
        "print(gdf)\n",
        "\n",
        "# Plotando o GeoDataFrame\n",
        "fig, ax = plt.subplots(figsize=(12, 8))  # Aumentando o tamanho da figura\n",
        "gdf.plot(column='Value', ax=ax, legend=True,\n",
        "         legend_kwds={'label': \"Valores\", 'orientation': \"horizontal\"},\n",
        "         edgecolor='black', cmap='Blues')  # Adicionando contorno e cor\n",
        "\n",
        "# Adicionando rótulos aos países\n",
        "for x, y, label in zip(gdf.geometry.centroid.x, gdf.geometry.centroid.y, gdf['Country']):\n",
        "    ax.text(x, y, label, fontsize=10, ha='center', va='center', color='black')\n",
        "\n",
        "# Títulos e labels\n",
        "plt.title('Mapa Coroplético de Países Fictícios na Europa', fontsize=15)\n",
        "plt.xlabel('Longitude', fontsize=12)\n",
        "plt.ylabel('Latitude', fontsize=12)\n",
        "plt.grid(visible=True)  # Adicionando uma grade\n",
        "plt.tight_layout()  # Ajustando layout\n",
        "\n",
        "# Salvando o gráfico em um arquivo\n",
        "output_filename = '/content/mapa_coropletico_europa.png'\n",
        "plt.savefig(output_filename, bbox_inches='tight')\n",
        "plt.show()\n",
        "\n",
        "# Salvando o notebook\n",
        "import nbformat as nbf\n",
        "\n",
        "notebook_filename = '/content/mapa_coropletico_europa.ipynb'\n",
        "nb = nbf.v4.new_notebook()\n",
        "nb.cells.append(nbf.v4.new_code_cell(code='''import geopandas as gpd\n",
        "import matplotlib.pyplot as plt\n",
        "from shapely.geometry import Polygon\n",
        "# Função para criar polígonos com contornos semelhantes a países europeus\n",
        "def create_european_shape(x_offset, y_offset):\n",
        "    if (x_offset, y_offset) == (0, 0):\n",
        "        return Polygon([(0, 0), (2, 0), (2, 1), (1.5, 2), (0.5, 2)])\n",
        "    elif (x_offset, y_offset) == (2, 0):\n",
        "        return Polygon([(2, 0), (4, 0), (4, 1.5), (3, 1.5), (2, 1)])\n",
        "    elif (x_offset, y_offset) == (0, 2):\n",
        "        return Polygon([(0.5, 2), (1.5, 3), (0.5, 3), (0, 2.5)])\n",
        "    elif (x_offset, y_offset) == (1, 2):\n",
        "        return Polygon([(1.5, 2), (2.5, 2.5), (1.5, 3.5), (1, 3)])\n",
        "    elif (x_offset, y_offset) == (3, 0):\n",
        "        return Polygon([(4, 1), (5, 1), (5, 3), (4, 3)])\n",
        "    elif (x_offset, y_offset) == (2, 2):\n",
        "        return Polygon([(2.5, 2), (3.5, 2), (3.5, 3), (2.5, 3)])\n",
        "    elif (x_offset, y_offset) == (4, 1):\n",
        "        return Polygon([(4, 1), (5, 1), (5, 2), (4.5, 2)])\n",
        "    elif (x_offset, y_offset) == (1, 0):\n",
        "        return Polygon([(1.5, 0.5), (2.5, 0.5), (2.5, 1.5), (1.5, 1.5)])\n",
        "    elif (x_offset, y_offset) == (3, 2):\n",
        "        return Polygon([(4.5, 2), (5, 2), (5, 3), (4.5, 3)])\n",
        "    return None\n",
        "\n",
        "# Criando uma lista de polígonos representando países fictícios com formas europeias\n",
        "polygons = [\n",
        "    create_european_shape(0, 0),   # País 1\n",
        "    create_european_shape(1, 0),   # País 2\n",
        "    create_european_shape(2, 0),   # País 3\n",
        "    create_european_shape(3, 0),   # País 4\n",
        "    create_european_shape(0, 2),   # País 5\n",
        "    create_european_shape(1, 2),   # País 6\n",
        "    create_european_shape(2, 2),   # País 7\n",
        "    create_european_shape(3, 2),   # País 8\n",
        "    create_european_shape(4, 1),   # País 9\n",
        "]\n",
        "\n",
        "# Criando um DataFrame com os dados\n",
        "data = {\n",
        "    'Country': [f'Country {chr(65 + i)}' for i in range(len(polygons))],\n",
        "    'Continent': ['Europe'] * len(polygons),\n",
        "    'Value': [10, 20, 30, 40, 50, 60, 70, 80, 90]\n",
        "}\n",
        "\n",
        "# Criando o GeoDataFrame\n",
        "gdf = gpd.GeoDataFrame(data, geometry=polygons)\n",
        "\n",
        "# Exibindo o GeoDataFrame\n",
        "print(gdf)\n",
        "\n",
        "# Plotando o GeoDataFrame\n",
        "fig, ax = plt.subplots(figsize=(12, 8))\n",
        "gdf.plot(column='Value', ax=ax, legend=True,\n",
        "         legend_kwds={'label': \"Valores\", 'orientation': \"horizontal\"},\n",
        "         edgecolor='black', cmap='Blues')\n",
        "\n",
        "# Adicionando rótulos aos países\n",
        "for x, y, label in zip(gdf.geometry.centroid.x, gdf.geometry.centroid.y, gdf['Country']):\n",
        "    ax.text(x, y, label, fontsize=10, ha='center', va='center', color='black')\n",
        "\n",
        "# Títulos e labels\n",
        "plt.title('Mapa Coroplético de Países Fictícios na Europa', fontsize=15)\n",
        "plt.xlabel('Longitude', fontsize=12)\n",
        "plt.ylabel('Latitude', fontsize=12)\n",
        "plt.grid(visible=True)\n",
        "plt.tight_layout()\n",
        "plt.show()\n",
        "'''))\n",
        "nb.cells.append(nbf.v4.new_markdown_cell(\"## Mapa Coroplético de Países Fictícios na Europa\"))\n",
        "nb.cells.append(nbf.v4.new_code_cell(f\"![Mapa Coroplético](mapa_coropletico_europa.png)\"))\n",
        "nb.cells.append(nbf.v4.new_code_cell(f'print(\"Mapa coroplético salvo como {output_filename}\")'))\n",
        "nb.cells.append(nbf.v4.new_code_cell(f'print(\"Notebook salvo como {notebook_filename}\")'))\n",
        "\n",
        "with open(notebook_filename, 'w') as f:\n",
        "    nbf.write(nb, f)\n",
        "\n",
        "print(f'Notebook salvo como {notebook_filename}')\n"
      ],
      "metadata": {
        "colab": {
          "base_uri": "https://localhost:8080/",
          "height": 1000
        },
        "id": "5C5CTZCpaAQV",
        "outputId": "2ba0b938-5e2f-4208-be24-13b786a20be9"
      },
      "execution_count": null,
      "outputs": [
        {
          "output_type": "stream",
          "name": "stdout",
          "text": [
            "     Country Continent  Value  \\\n",
            "0  Country A    Europe     10   \n",
            "1  Country B    Europe     20   \n",
            "2  Country C    Europe     30   \n",
            "3  Country D    Europe     40   \n",
            "4  Country E    Europe     50   \n",
            "5  Country F    Europe     60   \n",
            "6  Country G    Europe     70   \n",
            "7  Country H    Europe     80   \n",
            "8  Country I    Europe     90   \n",
            "\n",
            "                                            geometry  \n",
            "0       POLYGON ((0 0, 2 0, 2 1, 1.5 2, 0.5 2, 0 0))  \n",
            "1  POLYGON ((1.5 0.5, 2.5 0.5, 2.5 1.5, 1.5 1.5, ...  \n",
            "2       POLYGON ((2 0, 4 0, 4 1.5, 3 1.5, 2 1, 2 0))  \n",
            "3                POLYGON ((4 1, 5 1, 5 3, 4 3, 4 1))  \n",
            "4      POLYGON ((0.5 2, 1.5 3, 0.5 3, 0 2.5, 0.5 2))  \n",
            "5    POLYGON ((1.5 2, 2.5 2.5, 1.5 3.5, 1 3, 1.5 2))  \n",
            "6      POLYGON ((2.5 2, 3.5 2, 3.5 3, 2.5 3, 2.5 2))  \n",
            "7          POLYGON ((4.5 2, 5 2, 5 3, 4.5 3, 4.5 2))  \n",
            "8              POLYGON ((4 1, 5 1, 5 2, 4.5 2, 4 1))  \n"
          ]
        },
        {
          "output_type": "display_data",
          "data": {
            "text/plain": [
              "<Figure size 1200x800 with 2 Axes>"
            ],
            "image/png": "[encoded data removed]"
          },
          "metadata": {}
        },
        {
          "output_type": "error",
          "ename": "NotebookValidationError",
          "evalue": "Additional properties are not allowed ('code' was unexpected)\n\nFailed validating 'additionalProperties' in notebook:\n\nOn instance:\n{'cell_type': 'code',\n 'code': 'import geopandas as gpd\\n'\n         'import matplotlib.pyplot as plt\\n'\n         'from sha...',\n 'execution_count': None,\n 'id': '4f6bcda1',\n 'metadata': {},\n 'outputs': ['...0 outputs...'],\n 'source': ''}",
          "traceback": [
            "\u001b[0;31m---------------------------------------------------------------------------\u001b[0m",
            "\u001b[0;31mNotebookValidationError\u001b[0m                   Traceback (most recent call last)",
            "\u001b[0;32m<ipython-input-21-a432bef9d972>\u001b[0m in \u001b[0;36m<cell line: 82>\u001b[0;34m()\u001b[0m\n\u001b[1;32m     80\u001b[0m \u001b[0mnotebook_filename\u001b[0m \u001b[0;34m=\u001b[0m \u001b[0;34m'/content/mapa_coropletico_europa.ipynb'\u001b[0m\u001b[0;34m\u001b[0m\u001b[0;34m\u001b[0m\u001b[0m\n\u001b[1;32m     81\u001b[0m \u001b[0mnb\u001b[0m \u001b[0;34m=\u001b[0m \u001b[0mnbf\u001b[0m\u001b[0;34m.\u001b[0m\u001b[0mv4\u001b[0m\u001b[0;34m.\u001b[0m\u001b[0mnew_notebook\u001b[0m\u001b[0;34m(\u001b[0m\u001b[0;34m)\u001b[0m\u001b[0;34m\u001b[0m\u001b[0;34m\u001b[0m\u001b[0m\n\u001b[0;32m---> 82\u001b[0;31m nb.cells.append(nbf.v4.new_code_cell(code='''import geopandas as gpd\n\u001b[0m\u001b[1;32m     83\u001b[0m \u001b[0;32mimport\u001b[0m \u001b[0mmatplotlib\u001b[0m\u001b[0;34m.\u001b[0m\u001b[0mpyplot\u001b[0m \u001b[0;32mas\u001b[0m \u001b[0mplt\u001b[0m\u001b[0;34m\u001b[0m\u001b[0;34m\u001b[0m\u001b[0m\n\u001b[1;32m     84\u001b[0m \u001b[0;32mfrom\u001b[0m \u001b[0mshapely\u001b[0m\u001b[0;34m.\u001b[0m\u001b[0mgeometry\u001b[0m \u001b[0;32mimport\u001b[0m \u001b[0mPolygon\u001b[0m\u001b[0;34m\u001b[0m\u001b[0;34m\u001b[0m\u001b[0m\n",
            "\u001b[0;32m/usr/local/lib/python3.10/dist-packages/nbformat/v4/nbbase.py\u001b[0m in \u001b[0;36mnew_code_cell\u001b[0;34m(source, **kwargs)\u001b[0m\n\u001b[1;32m    127\u001b[0m     \u001b[0mcell\u001b[0m\u001b[0;34m.\u001b[0m\u001b[0mupdate\u001b[0m\u001b[0;34m(\u001b[0m\u001b[0mkwargs\u001b[0m\u001b[0;34m)\u001b[0m\u001b[0;34m\u001b[0m\u001b[0;34m\u001b[0m\u001b[0m\n\u001b[1;32m    128\u001b[0m \u001b[0;34m\u001b[0m\u001b[0m\n\u001b[0;32m--> 129\u001b[0;31m     \u001b[0mvalidate\u001b[0m\u001b[0;34m(\u001b[0m\u001b[0mcell\u001b[0m\u001b[0;34m,\u001b[0m \u001b[0;34m\"code_cell\"\u001b[0m\u001b[0;34m)\u001b[0m\u001b[0;34m\u001b[0m\u001b[0;34m\u001b[0m\u001b[0m\n\u001b[0m\u001b[1;32m    130\u001b[0m     \u001b[0;32mreturn\u001b[0m \u001b[0mcell\u001b[0m\u001b[0;34m\u001b[0m\u001b[0;34m\u001b[0m\u001b[0m\n\u001b[1;32m    131\u001b[0m \u001b[0;34m\u001b[0m\u001b[0m\n",
            "\u001b[0;32m/usr/local/lib/python3.10/dist-packages/nbformat/v4/nbbase.py\u001b[0m in \u001b[0;36mvalidate\u001b[0;34m(node, ref)\u001b[0m\n\u001b[1;32m     39\u001b[0m     \u001b[0;32mfrom\u001b[0m \u001b[0mnbformat\u001b[0m \u001b[0;32mimport\u001b[0m \u001b[0mvalidate\u001b[0m \u001b[0;32mas\u001b[0m \u001b[0mvalidate_orig\u001b[0m\u001b[0;34m\u001b[0m\u001b[0;34m\u001b[0m\u001b[0m\n\u001b[1;32m     40\u001b[0m \u001b[0;34m\u001b[0m\u001b[0m\n\u001b[0;32m---> 41\u001b[0;31m     \u001b[0;32mreturn\u001b[0m \u001b[0mvalidate_orig\u001b[0m\u001b[0;34m(\u001b[0m\u001b[0mnode\u001b[0m\u001b[0;34m,\u001b[0m \u001b[0mref\u001b[0m\u001b[0;34m=\u001b[0m\u001b[0mref\u001b[0m\u001b[0;34m,\u001b[0m \u001b[0mversion\u001b[0m\u001b[0;34m=\u001b[0m\u001b[0mnbformat\u001b[0m\u001b[0;34m)\u001b[0m\u001b[0;34m\u001b[0m\u001b[0;34m\u001b[0m\u001b[0m\n\u001b[0m\u001b[1;32m     42\u001b[0m \u001b[0;34m\u001b[0m\u001b[0m\n\u001b[1;32m     43\u001b[0m \u001b[0;34m\u001b[0m\u001b[0m\n",
            "\u001b[0;32m/usr/local/lib/python3.10/dist-packages/nbformat/validator.py\u001b[0m in \u001b[0;36mvalidate\u001b[0;34m(nbdict, ref, version, version_minor, relax_add_props, nbjson, repair_duplicate_cell_ids, strip_invalid_metadata)\u001b[0m\n\u001b[1;32m    507\u001b[0m         \u001b[0mstrip_invalid_metadata\u001b[0m\u001b[0;34m=\u001b[0m\u001b[0mstrip_invalid_metadata\u001b[0m\u001b[0;34m,\u001b[0m\u001b[0;34m\u001b[0m\u001b[0;34m\u001b[0m\u001b[0m\n\u001b[1;32m    508\u001b[0m     ):\n\u001b[0;32m--> 509\u001b[0;31m         \u001b[0;32mraise\u001b[0m \u001b[0merror\u001b[0m\u001b[0;34m\u001b[0m\u001b[0;34m\u001b[0m\u001b[0m\n\u001b[0m\u001b[1;32m    510\u001b[0m \u001b[0;34m\u001b[0m\u001b[0m\n\u001b[1;32m    511\u001b[0m \u001b[0;34m\u001b[0m\u001b[0m\n",
            "\u001b[0;31mNotebookValidationError\u001b[0m: Additional properties are not allowed ('code' was unexpected)\n\nFailed validating 'additionalProperties' in notebook:\n\nOn instance:\n{'cell_type': 'code',\n 'code': 'import geopandas as gpd\\n'\n         'import matplotlib.pyplot as plt\\n'\n         'from sha...',\n 'execution_count': None,\n 'id': '4f6bcda1',\n 'metadata': {},\n 'outputs': ['...0 outputs...'],\n 'source': ''}"
          ]
        }
      ]
    },
    {
      "cell_type": "code",
      "source": [
        "# Salvando o notebook\n",
        "import nbformat as nbf\n",
        "\n",
        "notebook_filename = '/content/mapa_coropletico_europa.ipynb'\n",
        "nb = nbf.v4.new_notebook()\n",
        "\n",
        "# Adicionando a célula de código\n",
        "nb.cells.append(nbf.v4.new_code_cell(source='''import geopandas as gpd\n",
        "import matplotlib.pyplot as plt\n",
        "from shapely.geometry import Polygon\n",
        "\n",
        "# Função para criar polígonos com contornos semelhantes a países europeus\n",
        "def create_european_shape(x_offset, y_offset):\n",
        "    if (x_offset, y_offset) == (0, 0):\n",
        "        return Polygon([(0, 0), (2, 0), (2, 1), (1.5, 2), (0.5, 2)])\n",
        "    elif (x_offset, y_offset) == (2, 0):\n",
        "        return Polygon([(2, 0), (4, 0), (4, 1.5), (3, 1.5), (2, 1)])\n",
        "    elif (x_offset, y_offset) == (0, 2):\n",
        "        return Polygon([(0.5, 2), (1.5, 3), (0.5, 3), (0, 2.5)])\n",
        "    elif (x_offset, y_offset) == (1, 2):\n",
        "        return Polygon([(1.5, 2), (2.5, 2.5), (1.5, 3.5), (1, 3)])\n",
        "    elif (x_offset, y_offset) == (3, 0):\n",
        "        return Polygon([(4, 1), (5, 1), (5, 3), (4, 3)])\n",
        "    elif (x_offset, y_offset) == (2, 2):\n",
        "        return Polygon([(2.5, 2), (3.5, 2), (3.5, 3), (2.5, 3)])\n",
        "    elif (x_offset, y_offset) == (4, 1):\n",
        "        return Polygon([(4, 1), (5, 1), (5, 2), (4.5, 2)])\n",
        "    elif (x_offset, y_offset) == (1, 0):\n",
        "        return Polygon([(1.5, 0.5), (2.5, 0.5), (2.5, 1.5), (1.5, 1.5)])\n",
        "    elif (x_offset, y_offset) == (3, 2):\n",
        "        return Polygon([(4.5, 2), (5, 2), (5, 3), (4.5, 3)])\n",
        "    return None\n",
        "\n",
        "# Criando uma lista de polígonos representando países fictícios com formas europeias\n",
        "polygons = [\n",
        "    create_european_shape(0, 0),   # País 1\n",
        "    create_european_shape(1, 0),   # País 2\n",
        "    create_european_shape(2, 0),   # País 3\n",
        "    create_european_shape(3, 0),   # País 4\n",
        "    create_european_shape(0, 2),   # País 5\n",
        "    create_european_shape(1, 2),   # País 6\n",
        "    create_european_shape(2, 2),   # País 7\n",
        "    create_european_shape(3, 2),   # País 8\n",
        "    create_european_shape(4, 1),   # País 9\n",
        "]\n",
        "\n",
        "# Criando um DataFrame com os dados\n",
        "data = {\n",
        "    'Country': [f'Country {chr(65 + i)}' for i in range(len(polygons))],\n",
        "    'Continent': ['Europe'] * len(polygons),\n",
        "    'Value': [10, 20, 30, 40, 50, 60, 70, 80, 90]\n",
        "}\n",
        "\n",
        "# Criando o GeoDataFrame\n",
        "gdf = gpd.GeoDataFrame(data, geometry=polygons)\n",
        "\n",
        "# Exibindo o GeoDataFrame\n",
        "print(gdf)\n",
        "\n",
        "# Plotando o GeoDataFrame\n",
        "fig, ax = plt.subplots(figsize=(12, 8))\n",
        "gdf.plot(column='Value', ax=ax, legend=True,\n",
        "         legend_kwds={'label': \"Valores\", 'orientation': \"horizontal\"},\n",
        "         edgecolor='black', cmap='Blues')\n",
        "\n",
        "# Adicionando rótulos aos países\n",
        "for x, y, label in zip(gdf.geometry.centroid.x, gdf.geometry.centroid.y, gdf['Country']):\n",
        "    ax.text(x, y, label, fontsize=10, ha='center', va='center', color='black')\n",
        "\n",
        "# Títulos e labels\n",
        "plt.title('Mapa Coroplético de Países Fictícios na Europa', fontsize=15)\n",
        "plt.xlabel('Longitude', fontsize=12)\n",
        "plt.ylabel('Latitude', fontsize=12)\n",
        "plt.grid(visible=True)\n",
        "plt.tight_layout()\n",
        "plt.show()\n",
        "'''))\n",
        "\n",
        "# Adicionando uma célula markdown\n",
        "nb.cells.append(nbf.v4.new_markdown_cell(\"## Mapa Coroplético de Países Fictícios na Europa\"))\n",
        "nb.cells.append(nbf.v4.new_code_cell(source=f\"![Mapa Coroplético](mapa_coropletico_europa.png)\"))\n",
        "nb.cells.append(nbf.v4.new_code_cell(source=f'print(\"Mapa coroplético salvo como {output_filename}\")'))\n",
        "nb.cells.append(nbf.v4.new_code_cell(source=f'print(\"Notebook salvo como {notebook_filename}\")'))\n",
        "\n",
        "# Salvando o notebook\n",
        "with open(notebook_filename, 'w') as f:\n",
        "    nbf.write(nb, f)\n",
        "\n",
        "print(f'Notebook salvo como {notebook_filename}')\n"
      ],
      "metadata": {
        "colab": {
          "base_uri": "https://localhost:8080/"
        },
        "id": "WvcAPxF7aMZV",
        "outputId": "6d340899-c1b8-40a3-823a-a9612222bd8c"
      },
      "execution_count": null,
      "outputs": [
        {
          "output_type": "stream",
          "name": "stdout",
          "text": [
            "Notebook salvo como /content/mapa_coropletico_europa.ipynb\n"
          ]
        }
      ]
    },
    {
      "cell_type": "code",
      "source": [
        "import os\n",
        "\n",
        "# Lista todos os arquivos no diretório /content/\n",
        "files = os.listdir('/content/')\n",
        "print(files)\n"
      ],
      "metadata": {
        "colab": {
          "base_uri": "https://localhost:8080/"
        },
        "id": "vk0gBzuccRgO",
        "outputId": "44725abc-910f-4ea2-f0ad-98ba383f7fb3"
      },
      "execution_count": null,
      "outputs": [
        {
          "output_type": "stream",
          "name": "stdout",
          "text": [
            "['.config', 'ne_110m_admin_0_countries.shp', 'mapa_coropletico_europa.ipynb', 'mapa_coropletico_europa.png', 'ne_110m_admin_0_countries.shx', '.ipynb_checkpoints', 'sample_data']\n"
          ]
        }
      ]
    },
    {
      "cell_type": "code",
      "source": [
        "import nbformat as nbf\n",
        "\n",
        "# Criar um novo notebook\n",
        "nb = nbf.v4.new_notebook()\n",
        "\n",
        "# Adicionar uma célula de código\n",
        "nb.cells.append(nbf.v4.new_code_cell('''\n",
        "import geopandas as gpd\n",
        "import matplotlib.pyplot as plt\n",
        "from shapely.geometry import Polygon\n",
        "\n",
        "# Adicione o código para gerar o mapa coroplético aqui.\n",
        "'''))\n",
        "\n",
        "# Salvar o notebook como arquivo .ipynb\n",
        "notebook_filename = '/content/mapa_coropletico_europa.ipynb'\n",
        "with open(notebook_filename, 'w') as f:\n",
        "    nbf.write(nb, f)\n",
        "\n",
        "print(f'Notebook salvo como {notebook_filename}')\n"
      ],
      "metadata": {
        "colab": {
          "base_uri": "https://localhost:8080/"
        },
        "id": "WRS4B5-CdD9u",
        "outputId": "20e5ffdb-b687-40e3-db57-8e52303e6036"
      },
      "execution_count": null,
      "outputs": [
        {
          "output_type": "stream",
          "name": "stdout",
          "text": [
            "Notebook salvo como /content/mapa_coropletico_europa.ipynb\n"
          ]
        }
      ]
    },
    {
      "cell_type": "code",
      "source": [
        "from google.colab import files\n",
        "\n",
        "# Fazer o download do arquivo .ipynb\n",
        "files.download('/content/mapa_coropletico_europa.ipynb')\n"
      ],
      "metadata": {
        "colab": {
          "base_uri": "https://localhost:8080/",
          "height": 17
        },
        "id": "y-6NRT6tdIbN",
        "outputId": "ef7e4f3c-59c2-43d8-85e0-3ac81e5e6df0"
      },
      "execution_count": null,
      "outputs": [
        {
          "output_type": "display_data",
          "data": {
            "text/plain": [
              "<IPython.core.display.Javascript object>"
            ],
            "application/javascript": [
              "\n",
              "    async function download(id, filename, size) {\n",
              "      if (!google.colab.kernel.accessAllowed) {\n",
              "        return;\n",
              "      }\n",
              "      const div = document.createElement('div');\n",
              "      const label = document.createElement('label');\n",
              "      label.textContent = `Downloading \"${filename}\": `;\n",
              "      div.appendChild(label);\n",
              "      const progress = document.createElement('progress');\n",
              "      progress.max = size;\n",
              "      div.appendChild(progress);\n",
              "      document.body.appendChild(div);\n",
              "\n",
              "      const buffers = [];\n",
              "      let downloaded = 0;\n",
              "\n",
              "      const channel = await google.colab.kernel.comms.open(id);\n",
              "      // Send a message to notify the kernel that we're ready.\n",
              "      channel.send({})\n",
              "\n",
              "      for await (const message of channel.messages) {\n",
              "        // Send a message to notify the kernel that we're ready.\n",
              "        channel.send({})\n",
              "        if (message.buffers) {\n",
              "          for (const buffer of message.buffers) {\n",
              "            buffers.push(buffer);\n",
              "            downloaded += buffer.byteLength;\n",
              "            progress.value = downloaded;\n",
              "          }\n",
              "        }\n",
              "      }\n",
              "      const blob = new Blob(buffers, {type: 'application/binary'});\n",
              "      const a = document.createElement('a');\n",
              "      a.href = window.URL.createObjectURL(blob);\n",
              "      a.download = filename;\n",
              "      div.appendChild(a);\n",
              "      a.click();\n",
              "      div.remove();\n",
              "    }\n",
              "  "
            ]
          },
          "metadata": {}
        },
        {
          "output_type": "display_data",
          "data": {
            "text/plain": [
              "<IPython.core.display.Javascript object>"
            ],
            "application/javascript": [
              "download(\"download_2426b11b-57ba-4dd2-9d39-b91410b07b30\", \"mapa_coropletico_europa.ipynb\", 418)"
            ]
          },
          "metadata": {}
        }
      ]
    }
  ]
}